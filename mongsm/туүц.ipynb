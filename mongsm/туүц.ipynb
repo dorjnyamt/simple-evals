{
 "cells": [
  {
   "cell_type": "code",
   "execution_count": 5,
   "metadata": {},
   "outputs": [
    {
     "data": {
      "text/html": [
       "<div>\n",
       "<style scoped>\n",
       "    .dataframe tbody tr th:only-of-type {\n",
       "        vertical-align: middle;\n",
       "    }\n",
       "\n",
       "    .dataframe tbody tr th {\n",
       "        vertical-align: top;\n",
       "    }\n",
       "\n",
       "    .dataframe thead th {\n",
       "        text-align: right;\n",
       "    }\n",
       "</style>\n",
       "<table border=\"1\" class=\"dataframe\">\n",
       "  <thead>\n",
       "    <tr style=\"text-align: right;\">\n",
       "      <th></th>\n",
       "      <th>0</th>\n",
       "      <th>1</th>\n",
       "      <th>2</th>\n",
       "    </tr>\n",
       "  </thead>\n",
       "  <tbody>\n",
       "    <tr>\n",
       "      <th>0</th>\n",
       "      <td>Болормаагийн нугаснууд өдөрт 16 өндөг гаргадаг...</td>\n",
       "      <td>18</td>\n",
       "      <td>Janet’s ducks lay 16 eggs per day. She eats th...</td>\n",
       "    </tr>\n",
       "    <tr>\n",
       "      <th>1</th>\n",
       "      <td>Нэг дээл хийхэд хөх өнгийн 2 боодол болон түүн...</td>\n",
       "      <td>3</td>\n",
       "      <td>A robe takes 2 bolts of blue fiber and half th...</td>\n",
       "    </tr>\n",
       "    <tr>\n",
       "      <th>2</th>\n",
       "      <td>Сүхээ нэг байшинг эргүүлж зарах гэж шийджээ. Т...</td>\n",
       "      <td>70000</td>\n",
       "      <td>Josh decides to try flipping a house.  He buys...</td>\n",
       "    </tr>\n",
       "    <tr>\n",
       "      <th>3</th>\n",
       "      <td>Жеймс долоо хоногт 3 удаа 3 спринт гүйхээр ший...</td>\n",
       "      <td>540</td>\n",
       "      <td>James decides to run 3 sprints 3 times a week....</td>\n",
       "    </tr>\n",
       "    <tr>\n",
       "      <th>4</th>\n",
       "      <td>Вэнди өдөр бүр тахиануудад гурван аяга үр тари...</td>\n",
       "      <td>20</td>\n",
       "      <td>Every day, Wendi feeds each of her chickens th...</td>\n",
       "    </tr>\n",
       "  </tbody>\n",
       "</table>\n",
       "</div>"
      ],
      "text/plain": [
       "                                                   0      1  \\\n",
       "0  Болормаагийн нугаснууд өдөрт 16 өндөг гаргадаг...     18   \n",
       "1  Нэг дээл хийхэд хөх өнгийн 2 боодол болон түүн...      3   \n",
       "2  Сүхээ нэг байшинг эргүүлж зарах гэж шийджээ. Т...  70000   \n",
       "3  Жеймс долоо хоногт 3 удаа 3 спринт гүйхээр ший...    540   \n",
       "4  Вэнди өдөр бүр тахиануудад гурван аяга үр тари...     20   \n",
       "\n",
       "                                                   2  \n",
       "0  Janet’s ducks lay 16 eggs per day. She eats th...  \n",
       "1  A robe takes 2 bolts of blue fiber and half th...  \n",
       "2  Josh decides to try flipping a house.  He buys...  \n",
       "3  James decides to run 3 sprints 3 times a week....  \n",
       "4  Every day, Wendi feeds each of her chickens th...  "
      ]
     },
     "execution_count": 5,
     "metadata": {},
     "output_type": "execute_result"
    }
   ],
   "source": [
    "import pandas as pd\n",
    "\n",
    "# Replace 'your_file.tsv' with the path to your TSV file\n",
    "df = pd.read_csv('translated_output.tsv', sep='\\t', header=None)\n",
    "\n",
    "# Display the first few rows of the dataframe\n",
    "df.head()"
   ]
  },
  {
   "cell_type": "code",
   "execution_count": 6,
   "metadata": {},
   "outputs": [
    {
     "data": {
      "text/html": [
       "<div>\n",
       "<style scoped>\n",
       "    .dataframe tbody tr th:only-of-type {\n",
       "        vertical-align: middle;\n",
       "    }\n",
       "\n",
       "    .dataframe tbody tr th {\n",
       "        vertical-align: top;\n",
       "    }\n",
       "\n",
       "    .dataframe thead th {\n",
       "        text-align: right;\n",
       "    }\n",
       "</style>\n",
       "<table border=\"1\" class=\"dataframe\">\n",
       "  <thead>\n",
       "    <tr style=\"text-align: right;\">\n",
       "      <th></th>\n",
       "      <th>0</th>\n",
       "      <th>1</th>\n",
       "    </tr>\n",
       "  </thead>\n",
       "  <tbody>\n",
       "    <tr>\n",
       "      <th>0</th>\n",
       "      <td>Болормаагийн нугаснууд өдөрт 16 өндөг гаргадаг...</td>\n",
       "      <td>18</td>\n",
       "    </tr>\n",
       "    <tr>\n",
       "      <th>1</th>\n",
       "      <td>Нэг дээл хийхэд хөх өнгийн 2 боодол болон түүн...</td>\n",
       "      <td>3</td>\n",
       "    </tr>\n",
       "    <tr>\n",
       "      <th>2</th>\n",
       "      <td>Сүхээ нэг байшинг эргүүлж зарах гэж шийджээ. Т...</td>\n",
       "      <td>70000</td>\n",
       "    </tr>\n",
       "    <tr>\n",
       "      <th>3</th>\n",
       "      <td>Жеймс долоо хоногт 3 удаа 3 спринт гүйхээр ший...</td>\n",
       "      <td>540</td>\n",
       "    </tr>\n",
       "    <tr>\n",
       "      <th>4</th>\n",
       "      <td>Вэнди өдөр бүр тахиануудад гурван аяга үр тари...</td>\n",
       "      <td>20</td>\n",
       "    </tr>\n",
       "  </tbody>\n",
       "</table>\n",
       "</div>"
      ],
      "text/plain": [
       "                                                   0      1\n",
       "0  Болормаагийн нугаснууд өдөрт 16 өндөг гаргадаг...     18\n",
       "1  Нэг дээл хийхэд хөх өнгийн 2 боодол болон түүн...      3\n",
       "2  Сүхээ нэг байшинг эргүүлж зарах гэж шийджээ. Т...  70000\n",
       "3  Жеймс долоо хоногт 3 удаа 3 спринт гүйхээр ший...    540\n",
       "4  Вэнди өдөр бүр тахиануудад гурван аяга үр тари...     20"
      ]
     },
     "execution_count": 6,
     "metadata": {},
     "output_type": "execute_result"
    }
   ],
   "source": [
    "df = df.drop(columns=[2])\n",
    "df.head()"
   ]
  },
  {
   "cell_type": "code",
   "execution_count": 7,
   "metadata": {},
   "outputs": [],
   "source": [
    "df.to_csv('mgsm_mn_test.tsv', sep='\\t', index=False, header=False)"
   ]
  }
 ],
 "metadata": {
  "kernelspec": {
   "display_name": "Python 3",
   "language": "python",
   "name": "python3"
  },
  "language_info": {
   "codemirror_mode": {
    "name": "ipython",
    "version": 3
   },
   "file_extension": ".py",
   "mimetype": "text/x-python",
   "name": "python",
   "nbconvert_exporter": "python",
   "pygments_lexer": "ipython3",
   "version": "3.12.6"
  }
 },
 "nbformat": 4,
 "nbformat_minor": 2
}
